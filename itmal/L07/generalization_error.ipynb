{
 "cells": [
  {
   "cell_type": "markdown",
   "metadata": {},
   "source": [
    "# ITMAL Exercise\n",
    "\n",
    "REVISIONS| |\n",
    "---------| |\n",
    "2018-1219| CEF, initial.                  \n",
    "2018-0214| CEF, major update and put in sync with under/overfitting exe.         \n",
    "2018-0220| CEF, fixed revision table malformatting.\n",
    "2018-0225| CEF, minor text updates, and made Qc optional.\n",
    "2018-0225| CEF, updated code, made more functions.\n",
    "2018-0311| CEF, corrected RSME to RMSE.\n",
    "2019-1008| CEF, updated to ITMAL E19.\n",
    "\n",
    "## Generalization Error\n",
    "\n",
    "In this exercise, we need to explain all important overall concepts in training. Let's begin with Figure 5.3 from Deep Learning, Ian Goodfellow, et. al. [DL], that pretty much sums it all up\n",
    "\n",
    "<img src=\"https://itundervisning.ase.au.dk/E19_itmal/L07/Figs/dl_generalization_error.png\" style=\"height:500px\">\n",
    "\n",
    "### Qa On Generalization Error\n",
    "\n",
    "Write a detailed description of figure 5.3 (above) for your hand-in.\n",
    " \n",
    "All concepts in the figure must be explained \n",
    "\n",
    "* training/generalization error, \n",
    "* underfit/overfit zone, \n",
    "* optimal capacity, \n",
    "* generalization gab, \n",
    "* and the two axes: x/capacity, y/error."
   ]
  },
  {
   "cell_type": "code",
   "execution_count": 5,
   "metadata": {},
   "outputs": [
    {
     "ename": "SyntaxError",
     "evalue": "invalid syntax (<ipython-input-5-3d1fa4c75948>, line 2)",
     "output_type": "error",
     "traceback": [
      "\u001b[1;36m  File \u001b[1;32m\"<ipython-input-5-3d1fa4c75948>\"\u001b[1;36m, line \u001b[1;32m2\u001b[0m\n\u001b[1;33m    - Training/generalization error\u001b[0m\n\u001b[1;37m                                  ^\u001b[0m\n\u001b[1;31mSyntaxError\u001b[0m\u001b[1;31m:\u001b[0m invalid syntax\n"
     ]
    }
   ],
   "source": [
    "#### TODO: Qa...in text\n",
    "- Training/generalization error\n",
    "The error of a model tells you how good the predictions from the model fit to the actual values. The error does not have to be a\n",
    "specific measure/formula it can be any of the methods tha are available, so for example the Root-mean-square-error is a way to \n",
    "measure the error/distance between the actual value and the predicted value.\n",
    "In general the error fro the training set, and then the error for trying out the model on fresh data or the validation data set, \n",
    "will not match completely. Just because the errors do not match, it does not mean that you have to try to optimize the training error\n",
    "on the specific set, since in reality, the model with that error might actually be a good generalized model to use, as long as\n",
    "the traning error is close to having the same value as the generalized error, and the model fits different datasets so that it can \n",
    "predict outcome values that are close to the actual values. \n",
    "\n",
    "- Underfit/overfit zone\n",
    "The underfitting zone is where the dataset is \"underrepresented\". The features for the dataset are not representative enough\n",
    "of the dataset as a whole, since the model has output values which are very different from the actual values, meaning the error is \n",
    "of a high value for the model. This can lead to multiple issues, where it is hard to use the model on other datasets and make it into\n",
    "a generalized model, because (as mentioned earlier) the model can barely represent one dataset (training). \n",
    "\n",
    "The overfitting zone is where the model is too \"representative\" of the dataset. This holds true when there are too many features\n",
    "taken into account, when some features do not even represent the dataset as a whole, and therefore when trying to fit the model to\n",
    "other datasets, it will again result in a higher value of error and the model cannot be generalized. \n",
    "\n",
    "- Optimal capaciy\n",
    "When speaking of polynomials, the model is also influenced by the the degrees on the polynomial which the model can be based off.\n",
    "The amount of \"degrees\" of the polynomial can be called the capacity of the model. The higher of a degree the polynomial has the\n",
    "higher the capacity is. The capacity influences the \"fit\" of the model, to low of a capacity can result in underfitting model, and\n",
    "if the capacity is too high, the model can be overfit to a specific dataset. Optimal capacity is when the model has a capacity which\n",
    "ensures the model can be generalized to predict outcomes from different datasets, meaning the \"degree\" of the polynomia has a value\n",
    "that ensures that the errors between the training data and other dataset is not too different from each other, and that the model\n",
    "can be used as a generalized model to fit and predict values from other data sets. \n",
    "\n",
    "- Generalization gap\n",
    "If the errors between the training data and other other data sets are to distant, this will result in a generalization gap, which\n",
    "can be due to the fact that the model is either underfitting or overfitting the datasets (most likely overfitting). \n",
    "\n",
    "- x/capacity, y/error.\n",
    "Figure 5.3 illustrates the different phenomena covered in this section, and the result of them. It illustrates that underfitting, \n",
    "might give too big of an error on other data sets as well as training data sets, since the model \"underrepresents\" the data sets\n",
    "by underfitting to the data. Overfitting happens when the model \"overrepresents\" the traning data and minimizes the error on training\n",
    "sets the more features are included, but the error on other data sets keep rising. When hitting the optimal capacity, even if there \n",
    "is a difference in the error, the values are not very different, and represent the datasets well, whether it be the training or other\n",
    "data sets. "
   ]
  },
  {
   "cell_type": "markdown",
   "metadata": {},
   "source": [
    "### Qb A MSE-Epoch/Error Plot\n",
    "\n",
    "Next, we look at a SGD model for fitting polynomial, that _polynomial regression_ similar to what Géron describes in [HOML] (\"Polynomial Regression\" + \"Learning Curves\"). \n",
    "\n",
    "Review the code below for plotting the RMSE vs. the iteration number or epoch below (three cells, part I/II/III). \n",
    "\n",
    "Write a short description of the code, and comment on the important points in the generation of the (R)MSE array.\n",
    "\n",
    "The training phase output lots of lines like \n",
    "\n",
    "> `epoch= 104, mse_train=1.50, mse_val=2.37` <br>\n",
    "> `epoch= 105, mse_train=1.49, mse_val=2.35`\n",
    "\n",
    "What is an ___epoch___ and what is `mse_train` and `mse_val`?\n",
    "\n",
    "NOTE: the generalization plot above (figure 5.3 in [DL]) and the plots below have different x-axis, and are not to be compared directly!"
   ]
  },
  {
   "cell_type": "code",
   "execution_count": 6,
   "metadata": {},
   "outputs": [
    {
     "name": "stdout",
     "output_type": "stream",
     "text": [
      "X_train.shape= (25, 1)\n",
      "X_val  .shape= (25, 1)\n",
      "y_train.shape= (25,)\n",
      "y_val  .shape= (25,)\n"
     ]
    },
    {
     "data": {
      "image/png": "[encoded data removed]",
      "text/plain": [
       "<Figure size 432x288 with 1 Axes>"
      ]
     },
     "metadata": {
      "needs_background": "light"
     },
     "output_type": "display_data"
    },
    {
     "name": "stdout",
     "output_type": "stream",
     "text": [
      "OK\n"
     ]
    }
   ],
   "source": [
    "# Run code: Qb(part I)\n",
    "# NOTE: modified code from [GITHOML], 04_training_linear_models.ipynb\n",
    "\n",
    "%matplotlib inline\n",
    "import matplotlib\n",
    "import matplotlib.pyplot as plt\n",
    "import numpy as np\n",
    "\n",
    "from sklearn.preprocessing import PolynomialFeatures, StandardScaler\n",
    "from sklearn.pipeline import Pipeline\n",
    "from sklearn.linear_model import SGDRegressor\n",
    "from sklearn.model_selection import train_test_split\n",
    "from sklearn.metrics import mean_squared_error\n",
    "\n",
    "np.random.seed(42)\n",
    "\n",
    "def GenerateData():\n",
    "    m = 100\n",
    "    X = 6 * np.random.rand(m, 1) - 3\n",
    "    y = 2 + X + 0.5 * X**2 + np.random.randn(m, 1)\n",
    "    return X, y\n",
    "\n",
    "X, y = GenerateData()\n",
    "X_train, X_val, y_train, y_val = \\\n",
    "    train_test_split( \\\n",
    "        X[:50], y[:50].ravel(), \\\n",
    "        test_size=0.5, \\\n",
    "        random_state=10)\n",
    "\n",
    "print(\"X_train.shape=\",X_train.shape)\n",
    "print(\"X_val  .shape=\",X_val.shape)\n",
    "print(\"y_train.shape=\",y_train.shape)\n",
    "print(\"y_val  .shape=\",y_val.shape)\n",
    "\n",
    "poly_scaler = Pipeline([\n",
    "        (\"poly_features\", PolynomialFeatures(degree=90, include_bias=False)),\n",
    "        (\"std_scaler\", StandardScaler()),\n",
    "    ])\n",
    "\n",
    "X_train_poly_scaled = poly_scaler.fit_transform(X_train)\n",
    "X_val_poly_scaled   = poly_scaler.transform(X_val)\n",
    "\n",
    "X_new=np.linspace(-3, 3, 100).reshape(100, 1)\n",
    "plt.plot(X, y, \"b.\", label=\"All X-y Data\")\n",
    "plt.xlabel(\"$x_1$\", fontsize=18, )\n",
    "plt.ylabel(\"$y$\", rotation=0, fontsize=18)\n",
    "plt.legend(loc=\"upper left\", fontsize=14)\n",
    "plt.axis([-3, 3, 0, 10])\n",
    "plt.show()\n",
    "\n",
    "print('OK')      "
   ]
  },
  {
   "cell_type": "code",
   "execution_count": null,
   "metadata": {},
   "outputs": [],
   "source": [
    "In part 1, the focus is towards preparing the data that needs to be tested on. As per the scikit documentation the standardsscaler\n",
    "\"Standardize features by removing the mean and scaling to unit variance\". The Polynomial is a 90 degree polynomial which is then \n",
    "fitted to the training and validation data. "
   ]
  },
  {
   "cell_type": "code",
   "execution_count": 7,
   "metadata": {},
   "outputs": [
    {
     "name": "stdout",
     "output_type": "stream",
     "text": [
      "Training...n_epochs= 500\n",
      "OK\n"
     ]
    }
   ],
   "source": [
    "# Run code: Qb(part II)\n",
    "\n",
    "def Train(X_train, y_train, X_val, y_val, n_epochs, verbose=False):\n",
    "    print(\"Training...n_epochs=\",n_epochs)\n",
    "    train_errors, val_errors = [], []\n",
    "    \n",
    "    sgd_reg = SGDRegressor(max_iter=1,\n",
    "                           penalty=None,\n",
    "                           eta0=0.0005,\n",
    "                           warm_start=True,\n",
    "                           learning_rate=\"constant\",\n",
    "                           tol=-float(\"inf\"),\n",
    "                           random_state=42)\n",
    "\n",
    "    for epoch in range(n_epochs):\n",
    "        sgd_reg.fit(X_train, y_train)\n",
    "        y_train_predict = sgd_reg.predict(X_train)\n",
    "        y_val_predict   = sgd_reg.predict(X_val)\n",
    "\n",
    "        mse_train=mean_squared_error(y_train, y_train_predict)\n",
    "        mse_val  =mean_squared_error(y_val  , y_val_predict)\n",
    "\n",
    "        train_errors.append(mse_train)\n",
    "        val_errors  .append(mse_val)\n",
    "        #if verbose:\n",
    "            #print(f\"  epoch={epoch:4d}, mse_train={mse_train:4.2f}, mse_val={mse_val:4.2f}\")\n",
    "\n",
    "    return train_errors, val_errors\n",
    "\n",
    "n_epochs = 500\n",
    "train_errors, val_errors = Train(X_train_poly_scaled, y_train, X_val_poly_scaled, y_val, n_epochs, True)\n",
    "\n",
    "print('OK')"
   ]
  },
  {
   "cell_type": "code",
   "execution_count": null,
   "metadata": {},
   "outputs": [],
   "source": [
    "The function train in this part, takes the respective data sets for the training and validation, but also n_epochs. \n",
    "n_epochs is a hyperparameter of gradient descent that controls the amount of passes through the data set(s), \n",
    "reference: \"https://machinelearningmastery.com/difference-between-a-batch-and-an-epoch/\". This means that since this is a gradient \n",
    "descent operation, it will pass through the dataset n_epochs amount of times trying to find the best possible model. This will \n",
    "be done with an initial learning rate of eta0=0.0005, and thereafter the last result is compared to the current run result and the \n",
    "learning rate is then adjusted. By doing this the best model is found by minimizing the errors whilst also not creating too much \n",
    "of a generalization gap from overfitting. "
   ]
  },
  {
   "cell_type": "code",
   "execution_count": 8,
   "metadata": {},
   "outputs": [
    {
     "data": {
      "image/png": "[encoded data removed]",
      "text/plain": [
       "<Figure size 720x360 with 1 Axes>"
      ]
     },
     "metadata": {
      "needs_background": "light"
     },
     "output_type": "display_data"
    }
   ],
   "source": [
    "# Run code: Qb(part III)\n",
    "\n",
    "best_epoch = np.argmin(val_errors)\n",
    "best_val_rmse = np.sqrt(val_errors[best_epoch])\n",
    "\n",
    "plt.figure(figsize=(10,5))\n",
    "plt.annotate('Best model',\n",
    "             xy=(best_epoch, best_val_rmse),\n",
    "             xytext=(best_epoch, best_val_rmse + 1),\n",
    "             ha=\"center\",\n",
    "             arrowprops=dict(facecolor='black', shrink=0.05),\n",
    "             fontsize=16,\n",
    "            )\n",
    "\n",
    "best_val_rmse -= 0.03  # just to make the graph look better\n",
    "plt.plot([0, n_epochs], [best_val_rmse, best_val_rmse], \"k:\", linewidth=2)\n",
    "plt.plot(np.sqrt(train_errors), \"b--\", linewidth=2, label=\"Training set\")\n",
    "plt.plot(np.sqrt(val_errors), \"g-\", linewidth=3, label=\"Validation set\")\n",
    "plt.legend(loc=\"upper right\", fontsize=14)\n",
    "plt.xlabel(\"Epoch\", fontsize=14)\n",
    "plt.ylabel(\"RMSE\", fontsize=14)\n",
    "plt.show()"
   ]
  },
  {
   "cell_type": "code",
   "execution_count": null,
   "metadata": {},
   "outputs": [],
   "source": [
    "# TODO: Qb...code review in text form\n",
    "The way that the best model is found, is by finding the minimum value of the error in the validation set, and that is where the\n",
    "best model is found. "
   ]
  },
  {
   "cell_type": "markdown",
   "metadata": {},
   "source": [
    "### [OPTIONAL] Qc  Early Stopping\n",
    "\n",
    "How would you implement ___early stopping___, in the code above? \n",
    "\n",
    "Try it out in the code, and write an explanation of the early stopping concept."
   ]
  },
  {
   "cell_type": "code",
   "execution_count": null,
   "metadata": {},
   "outputs": [],
   "source": [
    "# TODO: Qc..."
   ]
  },
  {
   "cell_type": "markdown",
   "metadata": {},
   "source": [
    "### Qd Explain the Polynomial RMSE-Capacity plot\n",
    "\n",
    "Now we revisit the concepts from `capacity_under_overfitting.ipynb` notebook and the polynomial fitting with a given capacity (polynomial degree).\n",
    "\n",
    "Peek into the cell below, and explain the generated RMSE-Capacity plot. Why does the _training error keep dropping_, while the _CV-error drops_ until around capacity 3, and then begin to rise again?\n",
    "\n",
    "What does the x-axis _Capacity_ and y-axis _RMSE_ represent?\n",
    "\n",
    "Try increasing the model capacity. What happens when you do plots for `degrees` larger than around 10?"
   ]
  },
  {
   "cell_type": "code",
   "execution_count": 10,
   "metadata": {},
   "outputs": [
    {
     "name": "stdout",
     "output_type": "stream",
     "text": [
      "Iterating...degrees= [1, 4, 15]\n",
      "  degree=   1, rmse_training=0.48, rmse_cv=0.64\n",
      "  degree=   4, rmse_training=0.11, rmse_cv=0.21\n",
      "  degree=  15, rmse_training=0.07, rmse_cv=13520.93\n"
     ]
    },
    {
     "data": {
      "image/png": "[encoded data removed]",
      "text/plain": [
       "<Figure size 504x288 with 1 Axes>"
      ]
     },
     "metadata": {
      "needs_background": "light"
     },
     "output_type": "display_data"
    },
    {
     "name": "stdout",
     "output_type": "stream",
     "text": [
      "OK\n"
     ]
    }
   ],
   "source": [
    "# Run and review this code\n",
    "# NOTE: modified code from [GITHOML], 04_training_linear_models.ipynb\n",
    "\n",
    "%matplotlib inline\n",
    "\n",
    "from math import sqrt\n",
    "import numpy as np\n",
    "import matplotlib.pyplot as plt\n",
    "\n",
    "from sklearn.pipeline import Pipeline\n",
    "from sklearn.preprocessing import PolynomialFeatures\n",
    "from sklearn.linear_model import LinearRegression\n",
    "from sklearn.model_selection import cross_val_score\n",
    "from sklearn.metrics import mean_squared_error\n",
    "\n",
    "def true_fun(X):\n",
    "    return np.cos(1.5 * np.pi * X)\n",
    "\n",
    "def GenerateData():\n",
    "    n_samples = 30\n",
    "    degrees = [1, 4, 15]\n",
    "    #degrees = range(1,8)\n",
    "\n",
    "    X = np.sort(np.random.rand(n_samples))\n",
    "    y = true_fun(X) + np.random.randn(n_samples) * 0.1\n",
    "    return X, y, degrees\n",
    "\n",
    "np.random.seed(0)\n",
    "X, y, degrees  = GenerateData()\n",
    "\n",
    "print(\"Iterating...degrees=\",degrees)\n",
    "capacities, rmses_training, rmses_cv= [], [], []\n",
    "for i in range(len(degrees)):\n",
    "    d=degrees[i]\n",
    "    \n",
    "    polynomial_features = PolynomialFeatures(degree=d, include_bias=False)\n",
    "    \n",
    "    linear_regression = LinearRegression()\n",
    "    pipeline = Pipeline([\n",
    "            (\"polynomial_features\", polynomial_features),\n",
    "            (\"linear_regression\", linear_regression)\n",
    "        ])\n",
    "    \n",
    "    Z = X[:, np.newaxis]\n",
    "    pipeline.fit(Z, y)\n",
    "    \n",
    "    p = pipeline.predict(Z)\n",
    "    train_rms = mean_squared_error(y,p)\n",
    "\n",
    "    # Evaluate the models using crossvalidation\n",
    "    scores = cross_val_score(pipeline, Z, y, scoring=\"neg_mean_squared_error\", cv=10)\n",
    "    score_mean = -scores.mean()\n",
    "    \n",
    "    rmse_training=sqrt(train_rms)\n",
    "    rmse_cv=sqrt(score_mean)\n",
    "    \n",
    "    print(f\"  degree={d:4d}, rmse_training={rmse_training:4.2f}, rmse_cv={rmse_cv:4.2f}\")\n",
    "    \n",
    "    capacities    .append(d)\n",
    "    rmses_training.append(rmse_training)\n",
    "    rmses_cv      .append(rmse_cv)\n",
    "    \n",
    "plt.figure(figsize=(7,4))\n",
    "plt.plot(capacities, rmses_training, \"b--\", linewidth=2, label=\"training RMSE\")\n",
    "plt.plot(capacities, rmses_cv, \"g-\", linewidth=2, label=\"CV RMSE\")\n",
    "plt.legend(loc=\"upper right\", fontsize=14)\n",
    "plt.xlabel(\"Capacity\", fontsize=14)\n",
    "plt.ylabel(\"RMSE\", fontsize=14)\n",
    "plt.show()\n",
    "\n",
    "print('OK')"
   ]
  },
  {
   "cell_type": "code",
   "execution_count": null,
   "metadata": {},
   "outputs": [],
   "source": [
    "# TODO: Qd...answer in text form\n",
    "The training error keeps dropping the higher the capacity/degree is, because as the degrees increase the more the model is overfitting \n",
    "to the dataset. The model is including features which are outliers and the model fits the data even \n",
    "more, resulting in minimizing the error the more features are included. Increasing the degrees does have its downside as the model does \n",
    "not fit other datasets well and cannot be used as a generalized model, where the error increases since the outliers are no longer important \n",
    "when handling other datasets. \n",
    "The CV error increases after the optimal capacity (around 3), since the model is overfitting to the training data and is no longer a good\n",
    "representation of other general data sets. \n",
    "The axis represent the capacity/degreee of the model that comes from fitting to the training set, and the RMSE is the error indication\n",
    "between the actual and predicted values of the model on the training dataset and the CV dataset. The model is underfitted in the \n",
    "beginning of the plot, which is indicated by the high values of the error when the model is tested on the training and the CV data sets.\n",
    "The model reaches optimal capacity when the capacity is set at around 3, where the minimum value for the error of the CV dataset is \n",
    "found. \n",
    "In theory you could go for higher and higher capacities, and try to find a global minimum, but it would be highly unlikely that a \n",
    "capacity higher than around 3 would fit better, since increasing the degrees typically results in overfitting the model to the data. \n"
   ]
  }
 ],
 "metadata": {
  "kernelspec": {
   "display_name": "Python 3",
   "language": "python",
   "name": "python3"
  },
  "language_info": {
   "codemirror_mode": {
    "name": "ipython",
    "version": 3
   },
   "file_extension": ".py",
   "mimetype": "text/x-python",
   "name": "python",
   "nbconvert_exporter": "python",
   "pygments_lexer": "ipython3",
   "version": "3.7.4"
  },
  "varInspector": {
   "cols": {
    "lenName": 16,
    "lenType": 16,
    "lenVar": 40
   },
   "kernels_config": {
    "python": {
     "delete_cmd_postfix": "",
     "delete_cmd_prefix": "del ",
     "library": "var_list.py",
     "varRefreshCmd": "print(var_dic_list())"
    },
    "r": {
     "delete_cmd_postfix": ") ",
     "delete_cmd_prefix": "rm(",
     "library": "var_list.r",
     "varRefreshCmd": "cat(var_dic_list()) "
    }
   },
   "types_to_exclude": [
    "module",
    "function",
    "builtin_function_or_method",
    "instance",
    "_Feature"
   ],
   "window_display": true
  }
 },
 "nbformat": 4,
 "nbformat_minor": 4
}
